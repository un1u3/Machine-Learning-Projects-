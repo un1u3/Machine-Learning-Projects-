{
 "cells": [
  {
   "cell_type": "code",
   "execution_count": 7,
   "id": "c8d29133",
   "metadata": {},
   "outputs": [],
   "source": [
    "import numpy as np \n",
    "import matplotlib.pyplot as plt \n",
    "import pandas as pd \n",
    "import statistics"
   ]
  },
  {
   "cell_type": "markdown",
   "id": "40dde3e5",
   "metadata": {},
   "source": [
    "### What is an Outlier?\n",
    "\n",
    "An **outlier** is a data point that is significantly different from other observations in a dataset.\n",
    "\n",
    "#### 📊 Example:\n",
    "In the dataset: [10, 12, 11, 13, 95],  \n",
    "the value **95** is an outlier because it's much larger than the rest.\n",
    "\n",
    "#### 🧭 Why Outliers Matter:\n",
    "\n",
    "- They can **skew the results** of statistical analyses and machine learning models.\n",
    "- May indicate **data entry errors**, **measurement errors**, or **rare events**.\n",
    "\n",
    "#### 📉 Impact on Models:\n",
    "- Outliers can **distort model accuracy**, especially for algorithms sensitive to scale (like linear regression or Min-Max Scaling).\n",
    "- Some models (like tree-based methods) are more **robust** to outliers.\n",
    "\n",
    "#### ⚙️ Common Ways to Detect Outliers:\n",
    "- **Box plot** (look for points outside whiskers)\n",
    "- **Z-score** (values with |Z| > 3 are often outliers)\n",
    "- **IQR method** (values outside 1.5 * IQR from Q1 or Q3)\n"
   ]
  },
  {
   "cell_type": "code",
   "execution_count": null,
   "id": "041020fc",
   "metadata": {},
   "outputs": [],
   "source": []
  }
 ],
 "metadata": {
  "kernelspec": {
   "display_name": "base",
   "language": "python",
   "name": "python3"
  },
  "language_info": {
   "codemirror_mode": {
    "name": "ipython",
    "version": 3
   },
   "file_extension": ".py",
   "mimetype": "text/x-python",
   "name": "python",
   "nbconvert_exporter": "python",
   "pygments_lexer": "ipython3",
   "version": "3.12.7"
  }
 },
 "nbformat": 4,
 "nbformat_minor": 5
}
